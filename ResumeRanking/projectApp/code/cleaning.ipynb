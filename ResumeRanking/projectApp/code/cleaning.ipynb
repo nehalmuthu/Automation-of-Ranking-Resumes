{
  "nbformat": 4,
  "nbformat_minor": 0,
  "metadata": {
    "colab": {
      "name": "cleaning",
      "provenance": []
    },
    "kernelspec": {
      "name": "python3",
      "display_name": "Python 3"
    }
  },
  "cells": [
    {
      "cell_type": "code",
      "metadata": {
        "id": "0WQ9omAp2LJw"
      },
      "source": [
        "import numpy as np\n",
        "import pandas as pd\n",
        "import re\n",
        "import nltk\n",
        "import spacy\n",
        "import string"
      ],
      "execution_count": null,
      "outputs": []
    },
    {
      "cell_type": "code",
      "metadata": {
        "colab": {
          "base_uri": "https://localhost:8080/",
          "height": 296
        },
        "id": "8W6dJ79n2QWh",
        "outputId": "7c1b8961-823b-4ada-b026-1fda42013856"
      },
      "source": [
        "\n",
        "full_df = pd.read_csv(\"/content/Selected.csv\")\n",
        "df = full_df[[\"text\"]]\n",
        "df[\"text\"] = df[\"text\"].astype(str)\n",
        "full_df.head()"
      ],
      "execution_count": null,
      "outputs": [
        {
          "output_type": "stream",
          "text": [
            "/usr/local/lib/python3.6/dist-packages/ipykernel_launcher.py:4: SettingWithCopyWarning: \n",
            "A value is trying to be set on a copy of a slice from a DataFrame.\n",
            "Try using .loc[row_indexer,col_indexer] = value instead\n",
            "\n",
            "See the caveats in the documentation: https://pandas.pydata.org/pandas-docs/stable/user_guide/indexing.html#returning-a-view-versus-a-copy\n",
            "  after removing the cwd from sys.path.\n"
          ],
          "name": "stderr"
        },
        {
          "output_type": "execute_result",
          "data": {
            "text/html": [
              "<div>\n",
              "<style scoped>\n",
              "    .dataframe tbody tr th:only-of-type {\n",
              "        vertical-align: middle;\n",
              "    }\n",
              "\n",
              "    .dataframe tbody tr th {\n",
              "        vertical-align: top;\n",
              "    }\n",
              "\n",
              "    .dataframe thead th {\n",
              "        text-align: right;\n",
              "    }\n",
              "</style>\n",
              "<table border=\"1\" class=\"dataframe\">\n",
              "  <thead>\n",
              "    <tr style=\"text-align: right;\">\n",
              "      <th></th>\n",
              "      <th>Application_ID</th>\n",
              "      <th>label</th>\n",
              "      <th>Documnet</th>\n",
              "      <th>text</th>\n",
              "    </tr>\n",
              "  </thead>\n",
              "  <tbody>\n",
              "    <tr>\n",
              "      <th>0</th>\n",
              "      <td>BAI10010252</td>\n",
              "      <td>0</td>\n",
              "      <td>/content/resume/BAI10010656-Mahesh.pdf</td>\n",
              "      <td>Your application was Last updated on 07-MAR-20...</td>\n",
              "    </tr>\n",
              "    <tr>\n",
              "      <th>1</th>\n",
              "      <td>BAI10010469</td>\n",
              "      <td>0</td>\n",
              "      <td>/content/resume/BAI10010252-Dheeraj.pdf</td>\n",
              "      <td>Your application was Last updated on 29-JAN-20...</td>\n",
              "    </tr>\n",
              "    <tr>\n",
              "      <th>2</th>\n",
              "      <td>BAI10010770</td>\n",
              "      <td>0</td>\n",
              "      <td>/content/resume/BAI10010469-Vivek.pdf</td>\n",
              "      <td>Your application was Last updated on 22-FEB-20...</td>\n",
              "    </tr>\n",
              "    <tr>\n",
              "      <th>3</th>\n",
              "      <td>BAI10010547</td>\n",
              "      <td>0</td>\n",
              "      <td>/content/resume/BAI10010770-Kosuru_Sampath.pdf</td>\n",
              "      <td>Your application was Last updated on 19-MAR-20...</td>\n",
              "    </tr>\n",
              "    <tr>\n",
              "      <th>4</th>\n",
              "      <td>BAI10020838</td>\n",
              "      <td>0</td>\n",
              "      <td>/content/resume/BAI10010547-Shivakumar.pdf</td>\n",
              "      <td>Your application was Last updated on 27-MAR-20...</td>\n",
              "    </tr>\n",
              "  </tbody>\n",
              "</table>\n",
              "</div>"
            ],
            "text/plain": [
              "  Application_ID  ...                                               text\n",
              "0    BAI10010252  ...  Your application was Last updated on 07-MAR-20...\n",
              "1    BAI10010469  ...  Your application was Last updated on 29-JAN-20...\n",
              "2    BAI10010770  ...  Your application was Last updated on 22-FEB-20...\n",
              "3    BAI10010547  ...  Your application was Last updated on 19-MAR-20...\n",
              "4    BAI10020838  ...  Your application was Last updated on 27-MAR-20...\n",
              "\n",
              "[5 rows x 4 columns]"
            ]
          },
          "metadata": {
            "tags": []
          },
          "execution_count": 23
        }
      ]
    },
    {
      "cell_type": "code",
      "metadata": {
        "colab": {
          "base_uri": "https://localhost:8080/",
          "height": 296
        },
        "id": "vg3ICOzn3FiD",
        "outputId": "298b242c-e9ff-48e1-f8b6-44f81652fb28"
      },
      "source": [
        "df[\"text_lower\"] = df[\"text\"].str.lower()\n",
        "df.head()"
      ],
      "execution_count": null,
      "outputs": [
        {
          "output_type": "stream",
          "text": [
            "/usr/local/lib/python3.6/dist-packages/ipykernel_launcher.py:1: SettingWithCopyWarning: \n",
            "A value is trying to be set on a copy of a slice from a DataFrame.\n",
            "Try using .loc[row_indexer,col_indexer] = value instead\n",
            "\n",
            "See the caveats in the documentation: https://pandas.pydata.org/pandas-docs/stable/user_guide/indexing.html#returning-a-view-versus-a-copy\n",
            "  \"\"\"Entry point for launching an IPython kernel.\n"
          ],
          "name": "stderr"
        },
        {
          "output_type": "execute_result",
          "data": {
            "text/html": [
              "<div>\n",
              "<style scoped>\n",
              "    .dataframe tbody tr th:only-of-type {\n",
              "        vertical-align: middle;\n",
              "    }\n",
              "\n",
              "    .dataframe tbody tr th {\n",
              "        vertical-align: top;\n",
              "    }\n",
              "\n",
              "    .dataframe thead th {\n",
              "        text-align: right;\n",
              "    }\n",
              "</style>\n",
              "<table border=\"1\" class=\"dataframe\">\n",
              "  <thead>\n",
              "    <tr style=\"text-align: right;\">\n",
              "      <th></th>\n",
              "      <th>text</th>\n",
              "      <th>text_lower</th>\n",
              "    </tr>\n",
              "  </thead>\n",
              "  <tbody>\n",
              "    <tr>\n",
              "      <th>0</th>\n",
              "      <td>Your application was Last updated on 07-MAR-20...</td>\n",
              "      <td>your application was last updated on 07-mar-20...</td>\n",
              "    </tr>\n",
              "    <tr>\n",
              "      <th>1</th>\n",
              "      <td>Your application was Last updated on 29-JAN-20...</td>\n",
              "      <td>your application was last updated on 29-jan-20...</td>\n",
              "    </tr>\n",
              "    <tr>\n",
              "      <th>2</th>\n",
              "      <td>Your application was Last updated on 22-FEB-20...</td>\n",
              "      <td>your application was last updated on 22-feb-20...</td>\n",
              "    </tr>\n",
              "    <tr>\n",
              "      <th>3</th>\n",
              "      <td>Your application was Last updated on 19-MAR-20...</td>\n",
              "      <td>your application was last updated on 19-mar-20...</td>\n",
              "    </tr>\n",
              "    <tr>\n",
              "      <th>4</th>\n",
              "      <td>Your application was Last updated on 27-MAR-20...</td>\n",
              "      <td>your application was last updated on 27-mar-20...</td>\n",
              "    </tr>\n",
              "  </tbody>\n",
              "</table>\n",
              "</div>"
            ],
            "text/plain": [
              "                                                text                                         text_lower\n",
              "0  Your application was Last updated on 07-MAR-20...  your application was last updated on 07-mar-20...\n",
              "1  Your application was Last updated on 29-JAN-20...  your application was last updated on 29-jan-20...\n",
              "2  Your application was Last updated on 22-FEB-20...  your application was last updated on 22-feb-20...\n",
              "3  Your application was Last updated on 19-MAR-20...  your application was last updated on 19-mar-20...\n",
              "4  Your application was Last updated on 27-MAR-20...  your application was last updated on 27-mar-20..."
            ]
          },
          "metadata": {
            "tags": []
          },
          "execution_count": 24
        }
      ]
    },
    {
      "cell_type": "code",
      "metadata": {
        "colab": {
          "base_uri": "https://localhost:8080/",
          "height": 296
        },
        "id": "vo88QiQ53Ihu",
        "outputId": "cecc9e68-ee41-4161-92cd-a7987f1d79b5"
      },
      "source": [
        "\n",
        "PUNCT_TO_REMOVE = string.punctuation\n",
        "def remove_punctuation(text):\n",
        "    \"\"\"custom function to remove the punctuation\"\"\"\n",
        "    return text.translate(str.maketrans('', '', PUNCT_TO_REMOVE))\n",
        "\n",
        "df[\"text_wo_punct\"] = df[\"text_lower\"].apply(lambda text: remove_punctuation(text))\n",
        "df.head()"
      ],
      "execution_count": null,
      "outputs": [
        {
          "output_type": "stream",
          "text": [
            "/usr/local/lib/python3.6/dist-packages/ipykernel_launcher.py:7: SettingWithCopyWarning: \n",
            "A value is trying to be set on a copy of a slice from a DataFrame.\n",
            "Try using .loc[row_indexer,col_indexer] = value instead\n",
            "\n",
            "See the caveats in the documentation: https://pandas.pydata.org/pandas-docs/stable/user_guide/indexing.html#returning-a-view-versus-a-copy\n",
            "  import sys\n"
          ],
          "name": "stderr"
        },
        {
          "output_type": "execute_result",
          "data": {
            "text/html": [
              "<div>\n",
              "<style scoped>\n",
              "    .dataframe tbody tr th:only-of-type {\n",
              "        vertical-align: middle;\n",
              "    }\n",
              "\n",
              "    .dataframe tbody tr th {\n",
              "        vertical-align: top;\n",
              "    }\n",
              "\n",
              "    .dataframe thead th {\n",
              "        text-align: right;\n",
              "    }\n",
              "</style>\n",
              "<table border=\"1\" class=\"dataframe\">\n",
              "  <thead>\n",
              "    <tr style=\"text-align: right;\">\n",
              "      <th></th>\n",
              "      <th>text</th>\n",
              "      <th>text_lower</th>\n",
              "      <th>text_wo_punct</th>\n",
              "    </tr>\n",
              "  </thead>\n",
              "  <tbody>\n",
              "    <tr>\n",
              "      <th>0</th>\n",
              "      <td>Your application was Last updated on 07-MAR-20...</td>\n",
              "      <td>your application was last updated on 07-mar-20...</td>\n",
              "      <td>your application was last updated on 07mar2019...</td>\n",
              "    </tr>\n",
              "    <tr>\n",
              "      <th>1</th>\n",
              "      <td>Your application was Last updated on 29-JAN-20...</td>\n",
              "      <td>your application was last updated on 29-jan-20...</td>\n",
              "      <td>your application was last updated on 29jan2019...</td>\n",
              "    </tr>\n",
              "    <tr>\n",
              "      <th>2</th>\n",
              "      <td>Your application was Last updated on 22-FEB-20...</td>\n",
              "      <td>your application was last updated on 22-feb-20...</td>\n",
              "      <td>your application was last updated on 22feb2019...</td>\n",
              "    </tr>\n",
              "    <tr>\n",
              "      <th>3</th>\n",
              "      <td>Your application was Last updated on 19-MAR-20...</td>\n",
              "      <td>your application was last updated on 19-mar-20...</td>\n",
              "      <td>your application was last updated on 19mar2019...</td>\n",
              "    </tr>\n",
              "    <tr>\n",
              "      <th>4</th>\n",
              "      <td>Your application was Last updated on 27-MAR-20...</td>\n",
              "      <td>your application was last updated on 27-mar-20...</td>\n",
              "      <td>your application was last updated on 27mar2019...</td>\n",
              "    </tr>\n",
              "  </tbody>\n",
              "</table>\n",
              "</div>"
            ],
            "text/plain": [
              "                                                text  ...                                      text_wo_punct\n",
              "0  Your application was Last updated on 07-MAR-20...  ...  your application was last updated on 07mar2019...\n",
              "1  Your application was Last updated on 29-JAN-20...  ...  your application was last updated on 29jan2019...\n",
              "2  Your application was Last updated on 22-FEB-20...  ...  your application was last updated on 22feb2019...\n",
              "3  Your application was Last updated on 19-MAR-20...  ...  your application was last updated on 19mar2019...\n",
              "4  Your application was Last updated on 27-MAR-20...  ...  your application was last updated on 27mar2019...\n",
              "\n",
              "[5 rows x 3 columns]"
            ]
          },
          "metadata": {
            "tags": []
          },
          "execution_count": 25
        }
      ]
    },
    {
      "cell_type": "code",
      "metadata": {
        "colab": {
          "base_uri": "https://localhost:8080/"
        },
        "id": "_TEtFBfQ3hif",
        "outputId": "2e769e36-f19f-4580-bf05-e39976e8066a"
      },
      "source": [
        "import nltk\n",
        "nltk.download('stopwords')"
      ],
      "execution_count": null,
      "outputs": [
        {
          "output_type": "stream",
          "text": [
            "[nltk_data] Downloading package stopwords to /root/nltk_data...\n",
            "[nltk_data]   Package stopwords is already up-to-date!\n"
          ],
          "name": "stdout"
        },
        {
          "output_type": "execute_result",
          "data": {
            "text/plain": [
              "True"
            ]
          },
          "metadata": {
            "tags": []
          },
          "execution_count": 26
        }
      ]
    },
    {
      "cell_type": "code",
      "metadata": {
        "colab": {
          "base_uri": "https://localhost:8080/",
          "height": 137
        },
        "id": "YrsNPEP33YP2",
        "outputId": "e1b3626b-20fe-424b-9899-635e0e5d96af"
      },
      "source": [
        "from nltk.corpus import stopwords\n",
        "\", \".join(stopwords.words('english'))"
      ],
      "execution_count": null,
      "outputs": [
        {
          "output_type": "execute_result",
          "data": {
            "application/vnd.google.colaboratory.intrinsic+json": {
              "type": "string"
            },
            "text/plain": [
              "\"i, me, my, myself, we, our, ours, ourselves, you, you're, you've, you'll, you'd, your, yours, yourself, yourselves, he, him, his, himself, she, she's, her, hers, herself, it, it's, its, itself, they, them, their, theirs, themselves, what, which, who, whom, this, that, that'll, these, those, am, is, are, was, were, be, been, being, have, has, had, having, do, does, did, doing, a, an, the, and, but, if, or, because, as, until, while, of, at, by, for, with, about, against, between, into, through, during, before, after, above, below, to, from, up, down, in, out, on, off, over, under, again, further, then, once, here, there, when, where, why, how, all, any, both, each, few, more, most, other, some, such, no, nor, not, only, own, same, so, than, too, very, s, t, can, will, just, don, don't, should, should've, now, d, ll, m, o, re, ve, y, ain, aren, aren't, couldn, couldn't, didn, didn't, doesn, doesn't, hadn, hadn't, hasn, hasn't, haven, haven't, isn, isn't, ma, mightn, mightn't, mustn, mustn't, needn, needn't, shan, shan't, shouldn, shouldn't, wasn, wasn't, weren, weren't, won, won't, wouldn, wouldn't\""
            ]
          },
          "metadata": {
            "tags": []
          },
          "execution_count": 27
        }
      ]
    },
    {
      "cell_type": "code",
      "metadata": {
        "colab": {
          "base_uri": "https://localhost:8080/",
          "height": 279
        },
        "id": "UxtR31JA3eZP",
        "outputId": "fc451123-9660-4f52-b8af-d9e1eb7ee0b0"
      },
      "source": [
        "STOPWORDS = set(stopwords.words('english'))\n",
        "def remove_stopwords(text):\n",
        "    \"\"\"custom function to remove the stopwords\"\"\"\n",
        "    return \" \".join([word for word in str(text).split() if word not in STOPWORDS])\n",
        "\n",
        "df[\"text_wo_stop\"] = df[\"text_wo_punct\"].apply(lambda text: remove_stopwords(text))\n",
        "df.head()"
      ],
      "execution_count": null,
      "outputs": [
        {
          "output_type": "execute_result",
          "data": {
            "text/html": [
              "<div>\n",
              "<style scoped>\n",
              "    .dataframe tbody tr th:only-of-type {\n",
              "        vertical-align: middle;\n",
              "    }\n",
              "\n",
              "    .dataframe tbody tr th {\n",
              "        vertical-align: top;\n",
              "    }\n",
              "\n",
              "    .dataframe thead th {\n",
              "        text-align: right;\n",
              "    }\n",
              "</style>\n",
              "<table border=\"1\" class=\"dataframe\">\n",
              "  <thead>\n",
              "    <tr style=\"text-align: right;\">\n",
              "      <th></th>\n",
              "      <th>text</th>\n",
              "      <th>text_lower</th>\n",
              "      <th>text_wo_punct</th>\n",
              "      <th>text_wo_stop</th>\n",
              "    </tr>\n",
              "  </thead>\n",
              "  <tbody>\n",
              "    <tr>\n",
              "      <th>0</th>\n",
              "      <td>Your application was Last updated on 07-MAR-20...</td>\n",
              "      <td>your application was last updated on 07-mar-20...</td>\n",
              "      <td>your application was last updated on 07mar2019...</td>\n",
              "      <td>application last updated 07mar2019 220013 eepl...</td>\n",
              "    </tr>\n",
              "    <tr>\n",
              "      <th>1</th>\n",
              "      <td>Your application was Last updated on 29-JAN-20...</td>\n",
              "      <td>your application was last updated on 29-jan-20...</td>\n",
              "      <td>your application was last updated on 29jan2019...</td>\n",
              "      <td>application last updated 29jan2019 205422 eepl...</td>\n",
              "    </tr>\n",
              "    <tr>\n",
              "      <th>2</th>\n",
              "      <td>Your application was Last updated on 22-FEB-20...</td>\n",
              "      <td>your application was last updated on 22-feb-20...</td>\n",
              "      <td>your application was last updated on 22feb2019...</td>\n",
              "      <td>application last updated 22feb2019 185335 eepl...</td>\n",
              "    </tr>\n",
              "    <tr>\n",
              "      <th>3</th>\n",
              "      <td>Your application was Last updated on 19-MAR-20...</td>\n",
              "      <td>your application was last updated on 19-mar-20...</td>\n",
              "      <td>your application was last updated on 19mar2019...</td>\n",
              "      <td>application last updated 19mar2019 112214 eepl...</td>\n",
              "    </tr>\n",
              "    <tr>\n",
              "      <th>4</th>\n",
              "      <td>Your application was Last updated on 27-MAR-20...</td>\n",
              "      <td>your application was last updated on 27-mar-20...</td>\n",
              "      <td>your application was last updated on 27mar2019...</td>\n",
              "      <td>application last updated 27mar2019 135819 eepl...</td>\n",
              "    </tr>\n",
              "  </tbody>\n",
              "</table>\n",
              "</div>"
            ],
            "text/plain": [
              "                                                text  ...                                       text_wo_stop\n",
              "0  Your application was Last updated on 07-MAR-20...  ...  application last updated 07mar2019 220013 eepl...\n",
              "1  Your application was Last updated on 29-JAN-20...  ...  application last updated 29jan2019 205422 eepl...\n",
              "2  Your application was Last updated on 22-FEB-20...  ...  application last updated 22feb2019 185335 eepl...\n",
              "3  Your application was Last updated on 19-MAR-20...  ...  application last updated 19mar2019 112214 eepl...\n",
              "4  Your application was Last updated on 27-MAR-20...  ...  application last updated 27mar2019 135819 eepl...\n",
              "\n",
              "[5 rows x 4 columns]"
            ]
          },
          "metadata": {
            "tags": []
          },
          "execution_count": 28
        }
      ]
    },
    {
      "cell_type": "code",
      "metadata": {
        "colab": {
          "base_uri": "https://localhost:8080/"
        },
        "id": "7WUWWunr3p6J",
        "outputId": "14ad7123-f72e-429b-ad44-9fbaf9cde8ea"
      },
      "source": [
        "from collections import Counter\n",
        "cnt = Counter()\n",
        "for text in df[\"text_wo_stop\"].values:\n",
        "    for word in text.split():\n",
        "        cnt[word] += 1\n",
        "        \n",
        "cnt.most_common(10)"
      ],
      "execution_count": null,
      "outputs": [
        {
          "output_type": "execute_result",
          "data": {
            "text/plain": [
              "[('•', 26256),\n",
              " ('\\uf0b7', 20300),\n",
              " ('data', 15960),\n",
              " ('business', 12063),\n",
              " ('project', 11552),\n",
              " ('management', 10544),\n",
              " ('team', 9840),\n",
              " ('–', 9798),\n",
              " ('experience', 8866),\n",
              " ('india', 7913)]"
            ]
          },
          "metadata": {
            "tags": []
          },
          "execution_count": 29
        }
      ]
    },
    {
      "cell_type": "code",
      "metadata": {
        "colab": {
          "base_uri": "https://localhost:8080/",
          "height": 279
        },
        "id": "R-1L318_3vNF",
        "outputId": "dc62c7ac-2bd1-45fc-e544-6ba4198873ff"
      },
      "source": [
        "FREQWORDS = set([w for (w, wc) in cnt.most_common(10)])\n",
        "def remove_freqwords(text):\n",
        "    \"\"\"custom function to remove the frequent words\"\"\"\n",
        "    return \" \".join([word for word in str(text).split() if word not in FREQWORDS])\n",
        "\n",
        "df[\"text_wo_stopfreq\"] = df[\"text_wo_stop\"].apply(lambda text: remove_freqwords(text))\n",
        "df.head()"
      ],
      "execution_count": null,
      "outputs": [
        {
          "output_type": "execute_result",
          "data": {
            "text/html": [
              "<div>\n",
              "<style scoped>\n",
              "    .dataframe tbody tr th:only-of-type {\n",
              "        vertical-align: middle;\n",
              "    }\n",
              "\n",
              "    .dataframe tbody tr th {\n",
              "        vertical-align: top;\n",
              "    }\n",
              "\n",
              "    .dataframe thead th {\n",
              "        text-align: right;\n",
              "    }\n",
              "</style>\n",
              "<table border=\"1\" class=\"dataframe\">\n",
              "  <thead>\n",
              "    <tr style=\"text-align: right;\">\n",
              "      <th></th>\n",
              "      <th>text</th>\n",
              "      <th>text_lower</th>\n",
              "      <th>text_wo_punct</th>\n",
              "      <th>text_wo_stop</th>\n",
              "      <th>text_wo_stopfreq</th>\n",
              "    </tr>\n",
              "  </thead>\n",
              "  <tbody>\n",
              "    <tr>\n",
              "      <th>0</th>\n",
              "      <td>Your application was Last updated on 07-MAR-20...</td>\n",
              "      <td>your application was last updated on 07-mar-20...</td>\n",
              "      <td>your application was last updated on 07mar2019...</td>\n",
              "      <td>application last updated 07mar2019 220013 eepl...</td>\n",
              "      <td>application last updated 07mar2019 220013 eepl...</td>\n",
              "    </tr>\n",
              "    <tr>\n",
              "      <th>1</th>\n",
              "      <td>Your application was Last updated on 29-JAN-20...</td>\n",
              "      <td>your application was last updated on 29-jan-20...</td>\n",
              "      <td>your application was last updated on 29jan2019...</td>\n",
              "      <td>application last updated 29jan2019 205422 eepl...</td>\n",
              "      <td>application last updated 29jan2019 205422 eepl...</td>\n",
              "    </tr>\n",
              "    <tr>\n",
              "      <th>2</th>\n",
              "      <td>Your application was Last updated on 22-FEB-20...</td>\n",
              "      <td>your application was last updated on 22-feb-20...</td>\n",
              "      <td>your application was last updated on 22feb2019...</td>\n",
              "      <td>application last updated 22feb2019 185335 eepl...</td>\n",
              "      <td>application last updated 22feb2019 185335 eepl...</td>\n",
              "    </tr>\n",
              "    <tr>\n",
              "      <th>3</th>\n",
              "      <td>Your application was Last updated on 19-MAR-20...</td>\n",
              "      <td>your application was last updated on 19-mar-20...</td>\n",
              "      <td>your application was last updated on 19mar2019...</td>\n",
              "      <td>application last updated 19mar2019 112214 eepl...</td>\n",
              "      <td>application last updated 19mar2019 112214 eepl...</td>\n",
              "    </tr>\n",
              "    <tr>\n",
              "      <th>4</th>\n",
              "      <td>Your application was Last updated on 27-MAR-20...</td>\n",
              "      <td>your application was last updated on 27-mar-20...</td>\n",
              "      <td>your application was last updated on 27mar2019...</td>\n",
              "      <td>application last updated 27mar2019 135819 eepl...</td>\n",
              "      <td>application last updated 27mar2019 135819 eepl...</td>\n",
              "    </tr>\n",
              "  </tbody>\n",
              "</table>\n",
              "</div>"
            ],
            "text/plain": [
              "                                                text  ...                                   text_wo_stopfreq\n",
              "0  Your application was Last updated on 07-MAR-20...  ...  application last updated 07mar2019 220013 eepl...\n",
              "1  Your application was Last updated on 29-JAN-20...  ...  application last updated 29jan2019 205422 eepl...\n",
              "2  Your application was Last updated on 22-FEB-20...  ...  application last updated 22feb2019 185335 eepl...\n",
              "3  Your application was Last updated on 19-MAR-20...  ...  application last updated 19mar2019 112214 eepl...\n",
              "4  Your application was Last updated on 27-MAR-20...  ...  application last updated 27mar2019 135819 eepl...\n",
              "\n",
              "[5 rows x 5 columns]"
            ]
          },
          "metadata": {
            "tags": []
          },
          "execution_count": 30
        }
      ]
    },
    {
      "cell_type": "code",
      "metadata": {
        "colab": {
          "base_uri": "https://localhost:8080/",
          "height": 279
        },
        "id": "TH-UKaQC3wdv",
        "outputId": "f612c092-b9b6-44e1-947c-039e6b2af289"
      },
      "source": [
        "df.drop([\"text_wo_punct\", \"text_wo_stop\"], axis=1, inplace=True)\n",
        "\n",
        "n_rare_words = 10\n",
        "RAREWORDS = set([w for (w, wc) in cnt.most_common()[:-n_rare_words-1:-1]])\n",
        "def remove_rarewords(text):\n",
        "    \"\"\"custom function to remove the rare words\"\"\"\n",
        "    return \" \".join([word for word in str(text).split() if word not in RAREWORDS])\n",
        "\n",
        "df[\"text_wo_stopfreqrare\"] = df[\"text_wo_stopfreq\"].apply(lambda text: remove_rarewords(text))\n",
        "df.head()"
      ],
      "execution_count": null,
      "outputs": [
        {
          "output_type": "execute_result",
          "data": {
            "text/html": [
              "<div>\n",
              "<style scoped>\n",
              "    .dataframe tbody tr th:only-of-type {\n",
              "        vertical-align: middle;\n",
              "    }\n",
              "\n",
              "    .dataframe tbody tr th {\n",
              "        vertical-align: top;\n",
              "    }\n",
              "\n",
              "    .dataframe thead th {\n",
              "        text-align: right;\n",
              "    }\n",
              "</style>\n",
              "<table border=\"1\" class=\"dataframe\">\n",
              "  <thead>\n",
              "    <tr style=\"text-align: right;\">\n",
              "      <th></th>\n",
              "      <th>text</th>\n",
              "      <th>text_lower</th>\n",
              "      <th>text_wo_stopfreq</th>\n",
              "      <th>text_wo_stopfreqrare</th>\n",
              "    </tr>\n",
              "  </thead>\n",
              "  <tbody>\n",
              "    <tr>\n",
              "      <th>0</th>\n",
              "      <td>Your application was Last updated on 07-MAR-20...</td>\n",
              "      <td>your application was last updated on 07-mar-20...</td>\n",
              "      <td>application last updated 07mar2019 220013 eepl...</td>\n",
              "      <td>application last updated 07mar2019 220013 eepl...</td>\n",
              "    </tr>\n",
              "    <tr>\n",
              "      <th>1</th>\n",
              "      <td>Your application was Last updated on 29-JAN-20...</td>\n",
              "      <td>your application was last updated on 29-jan-20...</td>\n",
              "      <td>application last updated 29jan2019 205422 eepl...</td>\n",
              "      <td>application last updated 29jan2019 205422 eepl...</td>\n",
              "    </tr>\n",
              "    <tr>\n",
              "      <th>2</th>\n",
              "      <td>Your application was Last updated on 22-FEB-20...</td>\n",
              "      <td>your application was last updated on 22-feb-20...</td>\n",
              "      <td>application last updated 22feb2019 185335 eepl...</td>\n",
              "      <td>application last updated 22feb2019 185335 eepl...</td>\n",
              "    </tr>\n",
              "    <tr>\n",
              "      <th>3</th>\n",
              "      <td>Your application was Last updated on 19-MAR-20...</td>\n",
              "      <td>your application was last updated on 19-mar-20...</td>\n",
              "      <td>application last updated 19mar2019 112214 eepl...</td>\n",
              "      <td>application last updated 19mar2019 112214 eepl...</td>\n",
              "    </tr>\n",
              "    <tr>\n",
              "      <th>4</th>\n",
              "      <td>Your application was Last updated on 27-MAR-20...</td>\n",
              "      <td>your application was last updated on 27-mar-20...</td>\n",
              "      <td>application last updated 27mar2019 135819 eepl...</td>\n",
              "      <td>application last updated 27mar2019 135819 eepl...</td>\n",
              "    </tr>\n",
              "  </tbody>\n",
              "</table>\n",
              "</div>"
            ],
            "text/plain": [
              "                                                text  ...                               text_wo_stopfreqrare\n",
              "0  Your application was Last updated on 07-MAR-20...  ...  application last updated 07mar2019 220013 eepl...\n",
              "1  Your application was Last updated on 29-JAN-20...  ...  application last updated 29jan2019 205422 eepl...\n",
              "2  Your application was Last updated on 22-FEB-20...  ...  application last updated 22feb2019 185335 eepl...\n",
              "3  Your application was Last updated on 19-MAR-20...  ...  application last updated 19mar2019 112214 eepl...\n",
              "4  Your application was Last updated on 27-MAR-20...  ...  application last updated 27mar2019 135819 eepl...\n",
              "\n",
              "[5 rows x 4 columns]"
            ]
          },
          "metadata": {
            "tags": []
          },
          "execution_count": 31
        }
      ]
    },
    {
      "cell_type": "code",
      "metadata": {
        "colab": {
          "base_uri": "https://localhost:8080/"
        },
        "id": "SkuH3G-n4g8J",
        "outputId": "c0629bb1-7c36-4175-9903-65b8d7883d60"
      },
      "source": [
        "\n",
        "import nltk\n",
        "nltk.download('wordnet')"
      ],
      "execution_count": null,
      "outputs": [
        {
          "output_type": "stream",
          "text": [
            "[nltk_data] Downloading package wordnet to /root/nltk_data...\n",
            "[nltk_data]   Package wordnet is already up-to-date!\n"
          ],
          "name": "stdout"
        },
        {
          "output_type": "execute_result",
          "data": {
            "text/plain": [
              "True"
            ]
          },
          "metadata": {
            "tags": []
          },
          "execution_count": 32
        }
      ]
    },
    {
      "cell_type": "code",
      "metadata": {
        "colab": {
          "base_uri": "https://localhost:8080/",
          "height": 279
        },
        "id": "FQc-JLF5340M",
        "outputId": "bc7a6be8-8b2b-41be-9abf-2409ed85edaa"
      },
      "source": [
        "from nltk.stem import WordNetLemmatizer\n",
        "\n",
        "lemmatizer = WordNetLemmatizer()\n",
        "def lemmatize_words(text):\n",
        "    return \" \".join([lemmatizer.lemmatize(word) for word in text.split()])\n",
        "\n",
        "df[\"text_lemmatized\"] = df[\"text_wo_stopfreqrare\"].apply(lambda text: lemmatize_words(text))\n",
        "df.head()"
      ],
      "execution_count": null,
      "outputs": [
        {
          "output_type": "execute_result",
          "data": {
            "text/html": [
              "<div>\n",
              "<style scoped>\n",
              "    .dataframe tbody tr th:only-of-type {\n",
              "        vertical-align: middle;\n",
              "    }\n",
              "\n",
              "    .dataframe tbody tr th {\n",
              "        vertical-align: top;\n",
              "    }\n",
              "\n",
              "    .dataframe thead th {\n",
              "        text-align: right;\n",
              "    }\n",
              "</style>\n",
              "<table border=\"1\" class=\"dataframe\">\n",
              "  <thead>\n",
              "    <tr style=\"text-align: right;\">\n",
              "      <th></th>\n",
              "      <th>text</th>\n",
              "      <th>text_lower</th>\n",
              "      <th>text_wo_stopfreq</th>\n",
              "      <th>text_wo_stopfreqrare</th>\n",
              "      <th>text_lemmatized</th>\n",
              "    </tr>\n",
              "  </thead>\n",
              "  <tbody>\n",
              "    <tr>\n",
              "      <th>0</th>\n",
              "      <td>Your application was Last updated on 07-MAR-20...</td>\n",
              "      <td>your application was last updated on 07-mar-20...</td>\n",
              "      <td>application last updated 07mar2019 220013 eepl...</td>\n",
              "      <td>application last updated 07mar2019 220013 eepl...</td>\n",
              "      <td>application last updated 07mar2019 220013 eepl...</td>\n",
              "    </tr>\n",
              "    <tr>\n",
              "      <th>1</th>\n",
              "      <td>Your application was Last updated on 29-JAN-20...</td>\n",
              "      <td>your application was last updated on 29-jan-20...</td>\n",
              "      <td>application last updated 29jan2019 205422 eepl...</td>\n",
              "      <td>application last updated 29jan2019 205422 eepl...</td>\n",
              "      <td>application last updated 29jan2019 205422 eepl...</td>\n",
              "    </tr>\n",
              "    <tr>\n",
              "      <th>2</th>\n",
              "      <td>Your application was Last updated on 22-FEB-20...</td>\n",
              "      <td>your application was last updated on 22-feb-20...</td>\n",
              "      <td>application last updated 22feb2019 185335 eepl...</td>\n",
              "      <td>application last updated 22feb2019 185335 eepl...</td>\n",
              "      <td>application last updated 22feb2019 185335 eepl...</td>\n",
              "    </tr>\n",
              "    <tr>\n",
              "      <th>3</th>\n",
              "      <td>Your application was Last updated on 19-MAR-20...</td>\n",
              "      <td>your application was last updated on 19-mar-20...</td>\n",
              "      <td>application last updated 19mar2019 112214 eepl...</td>\n",
              "      <td>application last updated 19mar2019 112214 eepl...</td>\n",
              "      <td>application last updated 19mar2019 112214 eepl...</td>\n",
              "    </tr>\n",
              "    <tr>\n",
              "      <th>4</th>\n",
              "      <td>Your application was Last updated on 27-MAR-20...</td>\n",
              "      <td>your application was last updated on 27-mar-20...</td>\n",
              "      <td>application last updated 27mar2019 135819 eepl...</td>\n",
              "      <td>application last updated 27mar2019 135819 eepl...</td>\n",
              "      <td>application last updated 27mar2019 135819 eepl...</td>\n",
              "    </tr>\n",
              "  </tbody>\n",
              "</table>\n",
              "</div>"
            ],
            "text/plain": [
              "                                                text  ...                                    text_lemmatized\n",
              "0  Your application was Last updated on 07-MAR-20...  ...  application last updated 07mar2019 220013 eepl...\n",
              "1  Your application was Last updated on 29-JAN-20...  ...  application last updated 29jan2019 205422 eepl...\n",
              "2  Your application was Last updated on 22-FEB-20...  ...  application last updated 22feb2019 185335 eepl...\n",
              "3  Your application was Last updated on 19-MAR-20...  ...  application last updated 19mar2019 112214 eepl...\n",
              "4  Your application was Last updated on 27-MAR-20...  ...  application last updated 27mar2019 135819 eepl...\n",
              "\n",
              "[5 rows x 5 columns]"
            ]
          },
          "metadata": {
            "tags": []
          },
          "execution_count": 33
        }
      ]
    },
    {
      "cell_type": "code",
      "metadata": {
        "colab": {
          "base_uri": "https://localhost:8080/",
          "height": 195
        },
        "id": "M3JDwD_p4kCs",
        "outputId": "0bb1f215-34aa-45bc-8e23-fb8127da84ca"
      },
      "source": [
        "df.drop([\"text_wo_stopfreq\", \"text_wo_stopfreqrare\",\"text_lower\",\"text\"], axis=1, inplace=True) \n",
        "df.head()"
      ],
      "execution_count": null,
      "outputs": [
        {
          "output_type": "execute_result",
          "data": {
            "text/html": [
              "<div>\n",
              "<style scoped>\n",
              "    .dataframe tbody tr th:only-of-type {\n",
              "        vertical-align: middle;\n",
              "    }\n",
              "\n",
              "    .dataframe tbody tr th {\n",
              "        vertical-align: top;\n",
              "    }\n",
              "\n",
              "    .dataframe thead th {\n",
              "        text-align: right;\n",
              "    }\n",
              "</style>\n",
              "<table border=\"1\" class=\"dataframe\">\n",
              "  <thead>\n",
              "    <tr style=\"text-align: right;\">\n",
              "      <th></th>\n",
              "      <th>text_lemmatized</th>\n",
              "    </tr>\n",
              "  </thead>\n",
              "  <tbody>\n",
              "    <tr>\n",
              "      <th>0</th>\n",
              "      <td>application last updated 07mar2019 220013 eepl...</td>\n",
              "    </tr>\n",
              "    <tr>\n",
              "      <th>1</th>\n",
              "      <td>application last updated 29jan2019 205422 eepl...</td>\n",
              "    </tr>\n",
              "    <tr>\n",
              "      <th>2</th>\n",
              "      <td>application last updated 22feb2019 185335 eepl...</td>\n",
              "    </tr>\n",
              "    <tr>\n",
              "      <th>3</th>\n",
              "      <td>application last updated 19mar2019 112214 eepl...</td>\n",
              "    </tr>\n",
              "    <tr>\n",
              "      <th>4</th>\n",
              "      <td>application last updated 27mar2019 135819 eepl...</td>\n",
              "    </tr>\n",
              "  </tbody>\n",
              "</table>\n",
              "</div>"
            ],
            "text/plain": [
              "                                     text_lemmatized\n",
              "0  application last updated 07mar2019 220013 eepl...\n",
              "1  application last updated 29jan2019 205422 eepl...\n",
              "2  application last updated 22feb2019 185335 eepl...\n",
              "3  application last updated 19mar2019 112214 eepl...\n",
              "4  application last updated 27mar2019 135819 eepl..."
            ]
          },
          "metadata": {
            "tags": []
          },
          "execution_count": 35
        }
      ]
    },
    {
      "cell_type": "code",
      "metadata": {
        "id": "xwBu3m314fDt"
      },
      "source": [
        "df['Attribute']=full_df['label']"
      ],
      "execution_count": null,
      "outputs": []
    },
    {
      "cell_type": "code",
      "metadata": {
        "id": "tiIT-aMEDI2I"
      },
      "source": [
        "df.drop([\"label\"],axis=1,inplace=True)\n",
        "df.columns=[\"Sentence\",\"Attribute\"]"
      ],
      "execution_count": null,
      "outputs": []
    },
    {
      "cell_type": "code",
      "metadata": {
        "colab": {
          "base_uri": "https://localhost:8080/",
          "height": 195
        },
        "id": "MwQkEjVEDECE",
        "outputId": "087c6da0-cbf7-472d-f9a1-1296ca62e83f"
      },
      "source": [
        "df.head()\n"
      ],
      "execution_count": null,
      "outputs": [
        {
          "output_type": "execute_result",
          "data": {
            "text/html": [
              "<div>\n",
              "<style scoped>\n",
              "    .dataframe tbody tr th:only-of-type {\n",
              "        vertical-align: middle;\n",
              "    }\n",
              "\n",
              "    .dataframe tbody tr th {\n",
              "        vertical-align: top;\n",
              "    }\n",
              "\n",
              "    .dataframe thead th {\n",
              "        text-align: right;\n",
              "    }\n",
              "</style>\n",
              "<table border=\"1\" class=\"dataframe\">\n",
              "  <thead>\n",
              "    <tr style=\"text-align: right;\">\n",
              "      <th></th>\n",
              "      <th>Sentence</th>\n",
              "      <th>Attribute</th>\n",
              "    </tr>\n",
              "  </thead>\n",
              "  <tbody>\n",
              "    <tr>\n",
              "      <th>0</th>\n",
              "      <td>application last updated 07mar2019 220013 eepl...</td>\n",
              "      <td>0</td>\n",
              "    </tr>\n",
              "    <tr>\n",
              "      <th>1</th>\n",
              "      <td>application last updated 29jan2019 205422 eepl...</td>\n",
              "      <td>0</td>\n",
              "    </tr>\n",
              "    <tr>\n",
              "      <th>2</th>\n",
              "      <td>application last updated 22feb2019 185335 eepl...</td>\n",
              "      <td>0</td>\n",
              "    </tr>\n",
              "    <tr>\n",
              "      <th>3</th>\n",
              "      <td>application last updated 19mar2019 112214 eepl...</td>\n",
              "      <td>0</td>\n",
              "    </tr>\n",
              "    <tr>\n",
              "      <th>4</th>\n",
              "      <td>application last updated 27mar2019 135819 eepl...</td>\n",
              "      <td>0</td>\n",
              "    </tr>\n",
              "  </tbody>\n",
              "</table>\n",
              "</div>"
            ],
            "text/plain": [
              "                                            Sentence  Attribute\n",
              "0  application last updated 07mar2019 220013 eepl...          0\n",
              "1  application last updated 29jan2019 205422 eepl...          0\n",
              "2  application last updated 22feb2019 185335 eepl...          0\n",
              "3  application last updated 19mar2019 112214 eepl...          0\n",
              "4  application last updated 27mar2019 135819 eepl...          0"
            ]
          },
          "metadata": {
            "tags": []
          },
          "execution_count": 42
        }
      ]
    },
    {
      "cell_type": "code",
      "metadata": {
        "id": "assJ3v5m4EKR"
      },
      "source": [
        "df.to_csv('cleaned_select.csv')"
      ],
      "execution_count": null,
      "outputs": []
    },
    {
      "cell_type": "code",
      "metadata": {
        "id": "8vVuHUnu5Ivp"
      },
      "source": [
        ""
      ],
      "execution_count": null,
      "outputs": []
    }
  ]
}